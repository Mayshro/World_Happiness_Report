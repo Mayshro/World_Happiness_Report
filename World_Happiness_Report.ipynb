{
  "nbformat": 4,
  "nbformat_minor": 0,
  "metadata": {
    "colab": {
      "provenance": []
    },
    "kernelspec": {
      "name": "python3",
      "display_name": "Python 3"
    },
    "language_info": {
      "name": "python"
    }
  },
  "cells": [
    {
      "cell_type": "markdown",
      "source": [
        " Preprocessing Steps"
      ],
      "metadata": {
        "id": "krODedV07ZaW"
      }
    },
    {
      "cell_type": "markdown",
      "source": [
        "Import Libraries,\n",
        "Configure Settings,\n",
        "Import Files,\n",
        "Prepare Data"
      ],
      "metadata": {
        "id": "7iFx9F3gg_RV"
      }
    },
    {
      "cell_type": "markdown",
      "source": [
        "Import Libraries"
      ],
      "metadata": {
        "id": "M15QoJ0n76e2"
      }
    },
    {
      "cell_type": "code",
      "source": [
        "import numpy as np \n",
        "import pandas as pd\n",
        "import matplotlib.pyplot as plt\n",
        "import seaborn as sns\n",
        "import warnings\n",
        "import os\n",
        "import math"
      ],
      "metadata": {
        "id": "Xe_9_1177_QC"
      },
      "execution_count": 1,
      "outputs": []
    },
    {
      "cell_type": "markdown",
      "source": [
        "Configure Settings"
      ],
      "metadata": {
        "id": "qzcbBfLA8N7m"
      }
    },
    {
      "cell_type": "code",
      "source": [
        "%matplotlib inline\n",
        "warnings.filterwarnings(\"ignore\")\n",
        "pd.set_option('display.max_columns',100)          # Set now of columns visible to 100\n",
        "pd.set_option('display.max_rows',100)          # Set now of rows visible to 100"
      ],
      "metadata": {
        "id": "rZtCJkgE8MwX"
      },
      "execution_count": 2,
      "outputs": []
    },
    {
      "cell_type": "markdown",
      "source": [
        "Import Files"
      ],
      "metadata": {
        "id": "I1pCAcos8h3c"
      }
    },
    {
      "cell_type": "code",
      "source": [
        "df_raw_15=pd.read_csv('/content/drive/MyDrive/2015 (1).csv')\n",
        "df_raw_16=pd.read_csv('/content/drive/MyDrive/2016.csv')\n",
        "df_raw_17=pd.read_csv('/content/drive/MyDrive/2017.csv')\n",
        "df_raw_18=pd.read_csv('/content/drive/MyDrive/2018.csv')\n",
        "df_raw_19=pd.read_csv('/content/drive/MyDrive/2019.csv')"
      ],
      "metadata": {
        "id": "a2mAU4LQ8i9C"
      },
      "execution_count": 3,
      "outputs": []
    },
    {
      "cell_type": "code",
      "source": [
        "df.columns"
      ],
      "metadata": {
        "colab": {
          "base_uri": "https://localhost:8080/"
        },
        "id": "XB0Fbu2mjqqO",
        "outputId": "ba9499cc-6585-4142-ca5e-f37327888959"
      },
      "execution_count": 16,
      "outputs": [
        {
          "output_type": "execute_result",
          "data": {
            "text/plain": [
              "Index(['Overall rank', 'Country or region', 'Score', 'GDP per capita',\n",
              "       'Social support', 'Healthy life expectancy',\n",
              "       'Freedom to make life choices', 'Generosity',\n",
              "       'Perceptions of corruption'],\n",
              "      dtype='object')"
            ]
          },
          "metadata": {},
          "execution_count": 16
        }
      ]
    },
    {
      "cell_type": "code",
      "source": [
        "df.info()"
      ],
      "metadata": {
        "colab": {
          "base_uri": "https://localhost:8080/"
        },
        "id": "5m3VvB_zj3EW",
        "outputId": "33b37a44-b471-4512-c406-44f4ac41fa03"
      },
      "execution_count": 18,
      "outputs": [
        {
          "output_type": "stream",
          "name": "stdout",
          "text": [
            "<class 'pandas.core.frame.DataFrame'>\n",
            "RangeIndex: 156 entries, 0 to 155\n",
            "Data columns (total 9 columns):\n",
            " #   Column                        Non-Null Count  Dtype  \n",
            "---  ------                        --------------  -----  \n",
            " 0   Overall rank                  156 non-null    int64  \n",
            " 1   Country or region             156 non-null    object \n",
            " 2   Score                         156 non-null    float64\n",
            " 3   GDP per capita                156 non-null    float64\n",
            " 4   Social support                156 non-null    float64\n",
            " 5   Healthy life expectancy       156 non-null    float64\n",
            " 6   Freedom to make life choices  156 non-null    float64\n",
            " 7   Generosity                    156 non-null    float64\n",
            " 8   Perceptions of corruption     156 non-null    float64\n",
            "dtypes: float64(7), int64(1), object(1)\n",
            "memory usage: 11.1+ KB\n"
          ]
        }
      ]
    },
    {
      "cell_type": "markdown",
      "source": [
        "Prepare Data"
      ],
      "metadata": {
        "id": "ZJHzeb8uBcXS"
      }
    },
    {
      "cell_type": "code",
      "source": [
        "df['Country or region'].unique()"
      ],
      "metadata": {
        "colab": {
          "base_uri": "https://localhost:8080/"
        },
        "id": "1krtDHuAeXgj",
        "outputId": "750e6785-2c70-4c0b-a210-1f1510bc402e"
      },
      "execution_count": 20,
      "outputs": [
        {
          "output_type": "execute_result",
          "data": {
            "text/plain": [
              "array(['Finland', 'Denmark', 'Norway', 'Iceland', 'Netherlands',\n",
              "       'Switzerland', 'Sweden', 'New Zealand', 'Canada', 'Austria',\n",
              "       'Australia', 'Costa Rica', 'Israel', 'Luxembourg',\n",
              "       'United Kingdom', 'Ireland', 'Germany', 'Belgium', 'United States',\n",
              "       'Czech Republic', 'United Arab Emirates', 'Malta', 'Mexico',\n",
              "       'France', 'Taiwan', 'Chile', 'Guatemala', 'Saudi Arabia', 'Qatar',\n",
              "       'Spain', 'Panama', 'Brazil', 'Uruguay', 'Singapore', 'El Salvador',\n",
              "       'Italy', 'Bahrain', 'Slovakia', 'Trinidad & Tobago', 'Poland',\n",
              "       'Uzbekistan', 'Lithuania', 'Colombia', 'Slovenia', 'Nicaragua',\n",
              "       'Kosovo', 'Argentina', 'Romania', 'Cyprus', 'Ecuador', 'Kuwait',\n",
              "       'Thailand', 'Latvia', 'South Korea', 'Estonia', 'Jamaica',\n",
              "       'Mauritius', 'Japan', 'Honduras', 'Kazakhstan', 'Bolivia',\n",
              "       'Hungary', 'Paraguay', 'Northern Cyprus', 'Peru', 'Portugal',\n",
              "       'Pakistan', 'Russia', 'Philippines', 'Serbia', 'Moldova', 'Libya',\n",
              "       'Montenegro', 'Tajikistan', 'Croatia', 'Hong Kong',\n",
              "       'Dominican Republic', 'Bosnia and Herzegovina', 'Turkey',\n",
              "       'Malaysia', 'Belarus', 'Greece', 'Mongolia', 'North Macedonia',\n",
              "       'Nigeria', 'Kyrgyzstan', 'Turkmenistan', 'Algeria', 'Morocco',\n",
              "       'Azerbaijan', 'Lebanon', 'Indonesia', 'China', 'Vietnam', 'Bhutan',\n",
              "       'Cameroon', 'Bulgaria', 'Ghana', 'Ivory Coast', 'Nepal', 'Jordan',\n",
              "       'Benin', 'Congo (Brazzaville)', 'Gabon', 'Laos', 'South Africa',\n",
              "       'Albania', 'Venezuela', 'Cambodia', 'Palestinian Territories',\n",
              "       'Senegal', 'Somalia', 'Namibia', 'Niger', 'Burkina Faso',\n",
              "       'Armenia', 'Iran', 'Guinea', 'Georgia', 'Gambia', 'Kenya',\n",
              "       'Mauritania', 'Mozambique', 'Tunisia', 'Bangladesh', 'Iraq',\n",
              "       'Congo (Kinshasa)', 'Mali', 'Sierra Leone', 'Sri Lanka', 'Myanmar',\n",
              "       'Chad', 'Ukraine', 'Ethiopia', 'Swaziland', 'Uganda', 'Egypt',\n",
              "       'Zambia', 'Togo', 'India', 'Liberia', 'Comoros', 'Madagascar',\n",
              "       'Lesotho', 'Burundi', 'Zimbabwe', 'Haiti', 'Botswana', 'Syria',\n",
              "       'Malawi', 'Yemen', 'Rwanda', 'Tanzania', 'Afghanistan',\n",
              "       'Central African Republic', 'South Sudan'], dtype=object)"
            ]
          },
          "metadata": {},
          "execution_count": 20
        }
      ]
    },
    {
      "cell_type": "code",
      "source": [
        "from sklearn import preprocessing\n",
        "\n",
        "le = preprocessing.LabelEncoder()\n",
        "\n",
        "df['Country or region'] = le.fit_transform(df['Country or region'])"
      ],
      "metadata": {
        "id": "2BEqEpHHgoi1"
      },
      "execution_count": 21,
      "outputs": []
    },
    {
      "cell_type": "code",
      "source": [
        "df['Country or region'].unique()"
      ],
      "metadata": {
        "colab": {
          "base_uri": "https://localhost:8080/"
        },
        "id": "NM6DEv5phFMX",
        "outputId": "b088a12c-fd64-4be3-9872-4eddeb1ecdea"
      },
      "execution_count": 22,
      "outputs": [
        {
          "output_type": "execute_result",
          "data": {
            "text/plain": [
              "array([ 43,  36, 105,  57,  98, 133, 132,  99,  23,   6,   5,  32,  63,\n",
              "        81, 147,  62,  48,  11, 148,  35, 146,  86,  89,  44, 135,  26,\n",
              "        51, 118, 114, 129, 108,  17, 149, 122,  40,  64,   8, 123, 140,\n",
              "       112, 150,  80,  28, 124, 100,  71,   3, 115,  34,  38,  72, 138,\n",
              "        75, 127,  41,  66,  88,  67,  54,  69,  14,  56, 109, 104, 110,\n",
              "       113, 106, 116, 111, 120,  90,  79,  92, 136,  33,  55,  37,  15,\n",
              "       142,  84,  10,  50,  91, 103, 102,  73, 143,   2,  93,   7,  76,\n",
              "        59,  27, 152,  13,  22,  18,  49,  65,  97,  68,  12,  30,  45,\n",
              "        74, 126,   1, 151,  21, 107, 119, 125,  96, 101,  19,   4,  60,\n",
              "        52,  47,  46,  70,  87,  94, 141,   9,  61,  31,  85, 121, 130,\n",
              "        95,  25, 145,  42, 131, 144,  39, 154, 139,  58,  78,  29,  82,\n",
              "        77,  20, 155,  53,  16, 134,  83, 153, 117, 137,   0,  24, 128])"
            ]
          },
          "metadata": {},
          "execution_count": 22
        }
      ]
    },
    {
      "cell_type": "markdown",
      "source": [
        "Structure Investigation"
      ],
      "metadata": {
        "id": "iYrs5o--CSi6"
      }
    },
    {
      "cell_type": "markdown",
      "source": [
        "Basic Steps,\n",
        "Null Value Check,\n",
        "Structure of non-numerical features,\n",
        "Structure of numerical features"
      ],
      "metadata": {
        "id": "O1j64qjuCY2G"
      }
    },
    {
      "cell_type": "code",
      "source": [
        "df.shape"
      ],
      "metadata": {
        "colab": {
          "base_uri": "https://localhost:8080/"
        },
        "id": "HKrXbWeaCREy",
        "outputId": "920e9f42-8bdd-4dca-f09d-b5dd212f3441"
      },
      "execution_count": 9,
      "outputs": [
        {
          "output_type": "execute_result",
          "data": {
            "text/plain": [
              "(156, 9)"
            ]
          },
          "metadata": {},
          "execution_count": 9
        }
      ]
    },
    {
      "cell_type": "code",
      "source": [
        "df.columns"
      ],
      "metadata": {
        "colab": {
          "base_uri": "https://localhost:8080/"
        },
        "id": "thgqpAcoCgGY",
        "outputId": "0580ecd5-7577-404a-f495-f314f251ed71"
      },
      "execution_count": 10,
      "outputs": [
        {
          "output_type": "execute_result",
          "data": {
            "text/plain": [
              "Index(['Overall rank', 'Country or region', 'Score', 'GDP per capita',\n",
              "       'Social support', 'Healthy life expectancy',\n",
              "       'Freedom to make life choices', 'Generosity',\n",
              "       'Perceptions of corruption'],\n",
              "      dtype='object')"
            ]
          },
          "metadata": {},
          "execution_count": 10
        }
      ]
    },
    {
      "cell_type": "code",
      "source": [
        "import matplotlib.pyplot as plt\n",
        "import numpy as np\n",
        "import pandas as pd\n",
        "from sklearn.linear_model import LinearRegression"
      ],
      "metadata": {
        "id": "M-qgFYMzOgsf"
      },
      "execution_count": 24,
      "outputs": []
    },
    {
      "cell_type": "code",
      "source": [
        "from sklearn.model_selection import train_test_split\n",
        "train, val = train_test_split(df, test_size=0.20)"
      ],
      "metadata": {
        "id": "ZZNUv_uiUXgj"
      },
      "execution_count": 25,
      "outputs": []
    },
    {
      "cell_type": "code",
      "source": [
        "train_x = train.drop(['GDP per capita'], axis = 1)\n",
        "train_y = train['Healthy life expectancy']             \n",
        "\n",
        "val_x = val.drop(['GDP per capita'], axis = 1)\n",
        "val_y = val['Healthy life expectancy']"
      ],
      "metadata": {
        "id": "3DuTYUDAVSjE"
      },
      "execution_count": 26,
      "outputs": []
    },
    {
      "cell_type": "code",
      "source": [
        "from sklearn.linear_model import LinearRegression\n",
        "ln_reg = LinearRegression()\n",
        "ln_reg.fit(train_x, train_y)"
      ],
      "metadata": {
        "id": "nboFyhGnWGCc",
        "outputId": "1eea1ed6-a283-41f9-f84d-13f23132aecf",
        "colab": {
          "base_uri": "https://localhost:8080/"
        }
      },
      "execution_count": 27,
      "outputs": [
        {
          "output_type": "execute_result",
          "data": {
            "text/plain": [
              "LinearRegression()"
            ]
          },
          "metadata": {},
          "execution_count": 27
        }
      ]
    },
    {
      "cell_type": "code",
      "source": [
        "from sklearn.metrics import mean_squared_error,mean_absolute_error, r2_score\n",
        "\n",
        "df_train_predict = ln_reg.predict(train_x)\n",
        "print('Mean Absolute Error of linear regression:',mean_absolute_error(df_train_predict, train_y))\n",
        "print('Mean Square Error of linear regression:', mean_squared_error(df_train_predict, train_y))\n",
        "print('R_Squared Score of linear regression:', r2_score( train_y,df_train_predict))"
      ],
      "metadata": {
        "colab": {
          "base_uri": "https://localhost:8080/"
        },
        "id": "6dOx7QsblTC5",
        "outputId": "e787614d-61f1-4a02-cc10-861f6fc52a76"
      },
      "execution_count": 29,
      "outputs": [
        {
          "output_type": "stream",
          "name": "stdout",
          "text": [
            "Mean Absolute Error of linear regression: 5.208048216629944e-14\n",
            "Mean Square Error of linear regression: 3.655769771474622e-27\n",
            "R_Squared Score of linear regression: 1.0\n"
          ]
        }
      ]
    },
    {
      "cell_type": "code",
      "source": [
        "from sklearn.metrics import mean_squared_error,mean_absolute_error, r2_score\n",
        "\n",
        "df_pred = ln_reg.predict(val_x)\n",
        "print('Mean Absolute Error of linear regression:',mean_absolute_error(df_pred, val_y))\n",
        "print('Mean Square Error of linear regression:', mean_squared_error(df_pred, val_y))\n",
        "print('R_Squared Score of linear regression:', r2_score( val_y,df_pred))"
      ],
      "metadata": {
        "id": "yOkiUe7lWljJ",
        "colab": {
          "base_uri": "https://localhost:8080/"
        },
        "outputId": "70bf67f6-f8a7-45a4-bde0-96c02cd33ac0"
      },
      "execution_count": 28,
      "outputs": [
        {
          "output_type": "stream",
          "name": "stdout",
          "text": [
            "Mean Absolute Error of linear regression: 5.999541141665787e-14\n",
            "Mean Square Error of linear regression: 4.6384236410543156e-27\n",
            "R_Squared Score of linear regression: 1.0\n"
          ]
        }
      ]
    },
    {
      "cell_type": "markdown",
      "source": [
        "And we are going to create our features (the GDP per capita in variable X) and our labels (Healthy Life expectancy in variable Y)"
      ],
      "metadata": {
        "id": "CCNjkN4nRVV9"
      }
    },
    {
      "cell_type": "markdown",
      "source": [
        "\n",
        "country_stats = prepare_country_stats(oecd_bli, gdp_per_capita)\n",
        "X = np.c_[country_stats[“GDP per capita”]]\n",
        "y = np.c_[country_stats[“Healthy Life expectancy”]]"
      ],
      "metadata": {
        "id": "StCEHfR9RbQD"
      }
    },
    {
      "cell_type": "code",
      "source": [
        "df.head"
      ],
      "metadata": {
        "id": "GamerAa_Cxyn"
      },
      "execution_count": null,
      "outputs": []
    },
    {
      "cell_type": "code",
      "source": [
        "df.info()"
      ],
      "metadata": {
        "id": "E10gGTVnC4KS"
      },
      "execution_count": null,
      "outputs": []
    },
    {
      "cell_type": "code",
      "source": [
        "pd.value_counts(df.dtypes)"
      ],
      "metadata": {
        "id": "5V-D0QMeDCiM"
      },
      "execution_count": null,
      "outputs": []
    },
    {
      "cell_type": "markdown",
      "source": [
        "No Null Values Detected"
      ],
      "metadata": {
        "id": "3jxzZ45wDr3a"
      }
    },
    {
      "cell_type": "code",
      "source": [
        "# Combined Plot\n",
        "\n",
        "plt.subplots(1,2,figsize=(13,3))\n",
        "plt.subplot(1,2,1)\n",
        "plt.imshow(df.isna(), aspect=\"auto\", interpolation=\"nearest\", cmap=\"gray\") # we can test any condition in df using this graph\n",
        "plt.xlabel(\"Column Number\")\n",
        "plt.ylabel(\"Sample Number\")\n",
        "plt.title(\"DATASET VIEW - Black (Not Null) & While (Null)\")\n",
        "plt.subplot(1,2,2)\n",
        "df.isna().mean().sort_values().plot( kind=\"bar\", title=\"Null Value Ratio per Feature\", ylabel=\"Ratio of missing values per feature\")\n",
        "plt.show()"
      ],
      "metadata": {
        "id": "wC_mMgwIDqjz"
      },
      "execution_count": null,
      "outputs": []
    },
    {
      "cell_type": "markdown",
      "source": [
        "Structure of non-numerical features Only 1 non numerical column Column value is nominal type has all distinct values"
      ],
      "metadata": {
        "id": "_oTmW9DPb4Yr"
      }
    },
    {
      "cell_type": "code",
      "source": [
        "# non-numerical features\n",
        "df.select_dtypes(exclude=\"number\").head()"
      ],
      "metadata": {
        "id": "TwmIcJKScAGn"
      },
      "execution_count": null,
      "outputs": []
    },
    {
      "cell_type": "code",
      "source": [
        "df.describe(exclude=\"number\")"
      ],
      "metadata": {
        "id": "gkrsduCBcFcI"
      },
      "execution_count": null,
      "outputs": []
    },
    {
      "cell_type": "markdown",
      "source": [
        "Structure of numerical features"
      ],
      "metadata": {
        "id": "wFmHWfe-cKKk"
      }
    },
    {
      "cell_type": "code",
      "source": [
        "# Combined Plot\n",
        "\n",
        "plt.subplots(2,2,figsize=(10,8),squeeze=False)\n",
        "plt.subplot(2,2,1)\n",
        "df.nunique().sort_values().plot.bar(  title=\"Unique values per feature (Normal Scale)\")\n",
        "plt.subplot(2,2,2)\n",
        "df.nunique().sort_values().plot.bar( logy=True, title=\"Unique values per feature (Log Scale)\")\n",
        "\n",
        "plt.subplot(2,2,3)\n",
        "df.select_dtypes(include=\"number\").nunique().sort_values().plot.bar(title=\"Unique values per Numerical feature\");\n",
        "plt.subplot(2,2,4)\n",
        "df.select_dtypes(exclude=\"number\").nunique().sort_values().plot.bar(title=\"Unique values per Categorical feature\");\n",
        "plt.tight_layout()\n",
        "plt.show()"
      ],
      "metadata": {
        "id": "xmMj7CMqcL-5"
      },
      "execution_count": null,
      "outputs": []
    },
    {
      "cell_type": "markdown",
      "source": [
        "Value Behaviour \n",
        "\n",
        "Each point in this figure is a sample (i.e. a row) in our dataset and each subplot represents a different feature.The y-axis shows the feature value, while the x-axis is the sample index\n",
        "Observation\n",
        "Values in each subpots appear to be in rangeNo extreme values / Wrong Value observed"
      ],
      "metadata": {
        "id": "RA7_AtILcmSx"
      }
    },
    {
      "cell_type": "code",
      "source": [
        "# For all Numerical columnn for all rows \n",
        "df.plot(lw=0, marker=\".\", subplots=True, layout=(-1, 3),\n",
        "          figsize=(12,5), markersize=1)\n",
        "plt.tight_layout()"
      ],
      "metadata": {
        "id": "TPnFNIIPcouM"
      },
      "execution_count": null,
      "outputs": []
    },
    {
      "cell_type": "markdown",
      "source": [
        "Univariate Content Analysis"
      ],
      "metadata": {
        "id": "Hk7QR3LPdOeS"
      }
    },
    {
      "cell_type": "markdown",
      "source": [
        "\n",
        "Summary for Columns (Describe)3.1 Summary for Columns (Describe),Individual Column Shape Observation,\n",
        "Individual Column Value Observation (Min, Max and Outlier)"
      ],
      "metadata": {
        "id": "NDaNu3ZedP-P"
      }
    },
    {
      "cell_type": "code",
      "source": [
        "df.describe()"
      ],
      "metadata": {
        "id": "3D2Rgl9vdY9m"
      },
      "execution_count": null,
      "outputs": []
    },
    {
      "cell_type": "markdown",
      "source": [
        "Individual Column Shape"
      ],
      "metadata": {
        "id": "upAP-kXvdoKt"
      }
    },
    {
      "cell_type": "markdown",
      "source": [
        "Approximately symmetricScoreGDP per capitaModerately SkewedHealthy life expectancy (Presence of low values causing left skewness)Freedom to make life choices (Presence of low values causing left skewness)Generosity (Presence of High values causing right skewness)Highly SkewedSocial support (Presence of low values causing left skewness)Perceptions of corruption (Presence of High values causing right skewness)"
      ],
      "metadata": {
        "id": "ftttqZL6d2pI"
      }
    },
    {
      "cell_type": "code",
      "source": [
        "# Plots the histogram for each numerical feature in a separate subplot\n",
        "figsize_val=(12,5)\n",
        "layout_val=(-1, 3)\n",
        "df.hist(bins=10, figsize=figsize_val, layout=layout_val, edgecolor=\"black\")\n",
        "plt.tight_layout();"
      ],
      "metadata": {
        "id": "emXFWNTod_Nq",
        "colab": {
          "base_uri": "https://localhost:8080/",
          "height": 369
        },
        "outputId": "654745c8-5029-4f24-8c4e-ab4d9df2e977"
      },
      "execution_count": 30,
      "outputs": [
        {
          "output_type": "display_data",
          "data": {
            "text/plain": [
              "<Figure size 864x360 with 9 Axes>"
            ],
            "image/png": "[encoded data removed]"
          },
          "metadata": {
            "needs_background": "light"
          }
        }
      ]
    },
    {
      "cell_type": "code",
      "source": [
        "df.skew()"
      ],
      "metadata": {
        "id": "oMC8ccHViUCx",
        "colab": {
          "base_uri": "https://localhost:8080/"
        },
        "outputId": "48bcbafa-a63c-44f2-f29c-5773f8ebad69"
      },
      "execution_count": 31,
      "outputs": [
        {
          "output_type": "execute_result",
          "data": {
            "text/plain": [
              "Overall rank                    0.000000\n",
              "Country or region               0.000000\n",
              "Score                           0.011450\n",
              "GDP per capita                 -0.385232\n",
              "Social support                 -1.134728\n",
              "Healthy life expectancy        -0.613841\n",
              "Freedom to make life choices   -0.685636\n",
              "Generosity                      0.745942\n",
              "Perceptions of corruption       1.650410\n",
              "dtype: float64"
            ]
          },
          "metadata": {},
          "execution_count": 31
        }
      ]
    },
    {
      "cell_type": "code",
      "source": [
        "plt.subplots(1,2,figsize=(12,3))\n",
        "\n",
        "plt.subplot(1,2,1)\n",
        "sns.boxplot(data=df[[ 'GDP per capita',\n",
        "       'Social support', 'Healthy life expectancy',\n",
        "       'Freedom to make life choices', 'Generosity',\n",
        "       'Perceptions of corruption']])\n",
        "plt.xticks(rotation=90)\n",
        "plt.subplot(1,2,2)\n",
        "sns.boxplot(data=df[[ 'Score']])\n",
        "\n",
        "plt.show()"
      ],
      "metadata": {
        "id": "QwJluD1nicFY",
        "colab": {
          "base_uri": "https://localhost:8080/",
          "height": 350
        },
        "outputId": "5da73a07-04e3-4e96-9c0a-99cc5c396c82"
      },
      "execution_count": 32,
      "outputs": [
        {
          "output_type": "display_data",
          "data": {
            "text/plain": [
              "<Figure size 864x216 with 2 Axes>"
            ],
            "image/png": "[encoded data removed]"
          },
          "metadata": {
            "needs_background": "light"
          }
        }
      ]
    },
    {
      "cell_type": "code",
      "source": [
        "upper =df.quantile(0.75)+1.5 *(df.quantile(0.75)-df.quantile(0.25))\n",
        "lower = df.quantile(0.25)-1.5 *(df.quantile(0.75)-df.quantile(0.25))\n",
        "\n",
        "for i in [ 'GDP per capita','Social support', 'Healthy life expectancy','Freedom to make life choices', 'Generosity','Perceptions of corruption']:\n",
        "    temp_min=df[df[i]== df[i].min()][['Country or region','Score']]\n",
        "    temp_max=df[df[i]== df[i].max()][['Country or region','Score']]\n",
        "    \n",
        "    print('\\nColumn -> ',i,'\\nMin Value ->',temp_min['Score'].values[0],'| Country -> ',\n",
        "          str(temp_min['Country or region'].to_list()).replace(\"'\",'').replace('[','').replace(']',''))\n",
        "    \n",
        "    print('Max Value ->',temp_max['Score'].values[0],'| Country -> ',\n",
        "          str(temp_max['Country or region'].to_list()).replace(\"'\",'').replace('[','').replace(']',''))\n",
        "    \n",
        "    x= df[ (df[i]<round(lower[i],2)) |  (df[i]>round(upper[i],2))]['Country or region'].to_list()\n",
        "    print('Outliers -> ',str(x).replace(\"'\",'').replace('[','').replace(']',''))\n",
        "    print('\\n','*'*10)"
      ],
      "metadata": {
        "id": "4h7bgmRsjARa",
        "colab": {
          "base_uri": "https://localhost:8080/"
        },
        "outputId": "1f718ce3-8431-4cb1-ba28-224629098948"
      },
      "execution_count": 33,
      "outputs": [
        {
          "output_type": "stream",
          "name": "stdout",
          "text": [
            "\n",
            "Column ->  GDP per capita \n",
            "Min Value -> 4.668 | Country ->  125\n",
            "Max Value -> 6.374 | Country ->  114\n",
            "Outliers ->  \n",
            "\n",
            " **********\n",
            "\n",
            "Column ->  Social support \n",
            "Min Value -> 3.083 | Country ->  24\n",
            "Max Value -> 7.494 | Country ->  57\n",
            "Outliers ->  12, 20, 134, 24\n",
            "\n",
            " **********\n",
            "\n",
            "Column ->  Healthy life expectancy \n",
            "Min Value -> 4.212 | Country ->  131\n",
            "Max Value -> 6.262 | Country ->  122\n",
            "Outliers ->  131\n",
            "\n",
            " **********\n",
            "\n",
            "Column ->  Freedom to make life choices \n",
            "Min Value -> 3.203 | Country ->  0\n",
            "Max Value -> 6.174 | Country ->  150\n",
            "Outliers ->  0\n",
            "\n",
            " **********\n",
            "\n",
            "Column ->  Generosity \n",
            "Min Value -> 5.287 | Country ->  50\n",
            "Max Value -> 4.36 | Country ->  95\n",
            "Outliers ->  59, 95\n",
            "\n",
            " **********\n",
            "\n",
            "Column ->  Perceptions of corruption \n",
            "Min Value -> 5.529 | Country ->  90\n",
            "Max Value -> 6.262 | Country ->  122\n",
            "Outliers ->  43, 36, 105, 98, 133, 132, 99, 23, 5, 81, 62, 122, 55, 117\n",
            "\n",
            " **********\n"
          ]
        }
      ]
    },
    {
      "cell_type": "markdown",
      "source": [
        "\n",
        "\n",
        "Multivariate Investigation\n",
        "\n",
        "Creating Relation Matrix and Graph,\n",
        "Relation With Score"
      ],
      "metadata": {
        "id": "FmftcssijmKi"
      }
    },
    {
      "cell_type": "markdown",
      "source": [
        "Creating Relation Matrix and Graph¶Keeping score out of the rank and score since strong correlation. (Score decides rank)"
      ],
      "metadata": {
        "id": "9hD4HcLujrxL"
      }
    },
    {
      "cell_type": "code",
      "source": [
        "temp_corr=df.corr()\n",
        "temp_corr"
      ],
      "metadata": {
        "id": "NnXcwzcBjt3q"
      },
      "execution_count": null,
      "outputs": []
    },
    {
      "cell_type": "code",
      "source": [
        "# Plot\n",
        "plt.figure(figsize=(8,4))\n",
        "sns.heatmap(df.corr().round(2), xticklabels=df.corr().columns, yticklabels=df.corr().columns, cmap='RdYlGn', center=0, annot=True)\n",
        "\n",
        "# Decorations\n",
        "plt.title('Correlogram of mtcars', fontsize=15)\n",
        "plt.xticks(fontsize=12)\n",
        "plt.yticks(fontsize=12)\n",
        "plt.show()"
      ],
      "metadata": {
        "id": "da7mKH19jS2C"
      },
      "execution_count": null,
      "outputs": []
    },
    {
      "cell_type": "code",
      "source": [
        "temp_corr.drop(columns='Overall rank',index='Overall rank',inplace=True)"
      ],
      "metadata": {
        "id": "6uoyWXrkj2vx"
      },
      "execution_count": null,
      "outputs": []
    },
    {
      "cell_type": "code",
      "source": [
        "# Observing relationship type with corr values\n",
        "\n",
        "df['Mask_Rank']=np.where(df['Overall rank']==1,'Rank 1','Other')\n",
        "df['Mask_Rank']=np.where(df['Overall rank']==156,'Rank 156',df['Mask_Rank'])\n",
        "\n",
        "sns.pairplot(data=df,\n",
        "                  y_vars='Score',\n",
        "                  x_vars=['GDP per capita', 'Social support', 'Healthy life expectancy','Freedom to make life choices',\n",
        "                          'Generosity','Perceptions of corruption']\n",
        "                ,hue='Mask_Rank'\n",
        ")\n",
        "                  \n",
        "plt.show()"
      ],
      "metadata": {
        "id": "Izp6J5j5kPXt"
      },
      "execution_count": null,
      "outputs": []
    },
    {
      "cell_type": "markdown",
      "source": [
        "\n",
        "We can see first 3 plots show + relationship and points are also close enough (Seems to have strong relationship)Freedom to make life choices has a positive relationship but points are not closed enough indicating moderate relationshipGenerosity does not seems to have any relation (Even the least rank country has better generosity score then rank 1)cluster of few points seems to show +ve relationship thus week positive relation with score\n",
        "In [25]:"
      ],
      "metadata": {
        "id": "oDwaJ8XZkXkq"
      }
    },
    {
      "cell_type": "code",
      "source": [
        "temp_corr_score=temp_corr.iloc[[0]]\n",
        "#temp_corr_score.drop(columns='Score',inplace=True)"
      ],
      "metadata": {
        "id": "EwSVMxgtkdur"
      },
      "execution_count": null,
      "outputs": []
    },
    {
      "cell_type": "code",
      "source": [
        "# Observing relationship type with corr values\n",
        "\n",
        "temp_corr_score.drop(columns='Score',inplace=True)\n",
        "strong=[]\n",
        "moderate=[]\n",
        "weak=[]\n",
        "no_relationship=[]\n",
        "for y in temp_corr_score.columns:\n",
        "    p=temp_corr_score[y][0]\n",
        "    if p >= 0.75 or p <= -0.75:\n",
        "        strong.append(y)\n",
        "    elif p >= 0.50 or p <= -0.50:\n",
        "        moderate.append(y)\n",
        "    elif p >= 0.25 or p <= -0.25:\n",
        "        weak.append(y)\n",
        "    else :\n",
        "        no_relationship.append(y)"
      ],
      "metadata": {
        "id": "tqYs-Iy3kmRX"
      },
      "execution_count": null,
      "outputs": []
    },
    {
      "cell_type": "code",
      "source": [
        "print('\\nStrong -> ',strong)\n",
        "print('\\nModerate -> ',moderate)\n",
        "print('\\nWeak -> ',weak)\n",
        "print('\\nNo_relationship -> ',no_relationship)"
      ],
      "metadata": {
        "id": "Jdk7JQa6kxGb"
      },
      "execution_count": null,
      "outputs": []
    },
    {
      "cell_type": "code",
      "source": [
        "temp_corr=df.corr()\n",
        "temp_corr.drop(columns=['Overall rank','Score'],index=['Overall rank','Score'],inplace=True)\n",
        "res = [(a, b) for idx, a in enumerate(temp_corr.index) for b in temp_corr.index[idx + 1:]]\n",
        "\n",
        "strong=[]\n",
        "moderate=[]\n",
        "weak=[]\n",
        "no_relationship=[]\n",
        "for x,y in res:\n",
        "    p=temp_corr[x][y]\n",
        "    if p >= 0.75 or p <= -0.75:\n",
        "        strong.append((x,y))\n",
        "    elif p >= 0.50 or p <= -0.50:\n",
        "        moderate.append((x,y))\n",
        "    elif p >= 0.25 or p <= -0.25:\n",
        "        weak.append((x,y))\n",
        "    else :\n",
        "        no_relationship.append((x,y))\n",
        "    \n",
        "print('\\nStrong -> ',strong)\n",
        "print('\\nModerate -> ',moderate)\n",
        "print('\\nWeak -> ',weak)\n",
        "print('\\nNo_relationship -> ',no_relationship)"
      ],
      "metadata": {
        "id": "gh49iJCjlREq"
      },
      "execution_count": null,
      "outputs": []
    },
    {
      "cell_type": "markdown",
      "source": [
        "\n",
        "Comparision Summary wrt Previous Reports:\n",
        "\n",
        "\n",
        "\n",
        "\n",
        "Coutries Performance Comparision wrt 2018\n",
        "Score Variation for Ranked 1 Country Over 5 year"
      ],
      "metadata": {
        "id": "siU4sqqElXlv"
      }
    },
    {
      "cell_type": "markdown",
      "source": [
        "Top 5 countries with most improved performance\n",
        "\n",
        "Benin, Guinea, Niger, Kosovo, 'Bosnia and Herzegovina'\n",
        "\n",
        "\n",
        "5 countries with worst performance:\n",
        "\n",
        "Malaysia , Turkmenistan, Argentina, Sierra Leone and Egypt \n",
        "\n",
        "\n",
        "\n",
        "\n",
        "Countries with no change in rank:\n",
        "\n",
        "Finland, Iceland, New Zealand, Malta, Singapore, Latvia, Jamaica, Kazakhstan, Peru, Hong Kong, Mozambique, Togo, Madagascar, Tanzania, Central African Republic"
      ],
      "metadata": {
        "id": "8uVfdWtMmn_0"
      }
    },
    {
      "cell_type": "code",
      "source": [
        "temp_f=df_combined[df_combined['Year']=='2019'].merge(df_combined[df_combined['Year']=='2018'],left_on='Country', right_on='Country')\n",
        "temp_f['Change']=temp_f['Rank_y']-temp_f['Rank_x']"
      ],
      "metadata": {
        "id": "X7SSj-MvnXBs"
      },
      "execution_count": null,
      "outputs": []
    },
    {
      "cell_type": "code",
      "source": [
        "plt.figure(figsize=(25,4))\n",
        "plt.vlines(x=temp_f['Country'], ymin=0, ymax=temp_f.Change,linestyles='dotted')\n",
        "\n",
        "for i, val in enumerate(temp_f.Change):\n",
        "    plt.text(i, val, val, horizontalalignment='right' if val < 0 else 'left', \n",
        "             verticalalignment='top', fontdict={'color':'red' if val < 0 else 'green','fontweight':300, 'size':9})\n",
        "\n",
        "plt.xticks(rotation=90)\n",
        "plt.margins(x=0.005,y=0.1)\n",
        "plt.show()"
      ],
      "metadata": {
        "id": "lv7cXXZanadF"
      },
      "execution_count": null,
      "outputs": []
    },
    {
      "cell_type": "code",
      "source": [
        "#Top 5 performing Countries\n",
        "temp_f[['Country','Change']].sort_values('Change',ascending=False)[0:5].reset_index(drop=True)"
      ],
      "metadata": {
        "id": "eNpM9UbBnfC_"
      },
      "execution_count": null,
      "outputs": []
    },
    {
      "cell_type": "code",
      "source": [
        "# Top 5 worst performing Countries\n",
        "temp_f[['Country','Change']].sort_values('Change',)[0:5].reset_index(drop=True)"
      ],
      "metadata": {
        "id": "t4UFNedKnlb9"
      },
      "execution_count": null,
      "outputs": []
    },
    {
      "cell_type": "code",
      "source": [
        "# Consistent Countries with change 0\n",
        "print(str(temp_f[temp_f['Change']==0]['Country'].to_list()).replace(\"'\",'').replace('[','').replace(']',''))"
      ],
      "metadata": {
        "id": "eB8JkIk0np90"
      },
      "execution_count": null,
      "outputs": []
    },
    {
      "cell_type": "markdown",
      "source": [
        "Score Variation for Ranked 1 Country Over 5 year"
      ],
      "metadata": {
        "id": "bFaOWdJLnvIe"
      }
    },
    {
      "cell_type": "code",
      "source": [
        "df_combined[df_combined['Rank']==1][['Year','Score']].plot.line(x='Year',y='Score',figsize=(10,3))\n",
        "for i, val in enumerate((df_combined[df_combined['Rank']==1][['Year','Score','Country']].sort_values('Year')).astype(np.str).agg('-'.join, axis=1).to_list()):\n",
        "    plt.text(i, float(val.split('-')[1]), (str(val.split('-')[2]),round(float(val.split('-')[1]),2)),\n",
        "         horizontalalignment='left', verticalalignment='top', fontdict={'fontweight':300, 'size':8})\n",
        "plt.margins(x=0.15,y=0.15)\n",
        "plt.show()"
      ],
      "metadata": {
        "id": "bZMEQiF5nuE-"
      },
      "execution_count": null,
      "outputs": []
    }
  ]
}